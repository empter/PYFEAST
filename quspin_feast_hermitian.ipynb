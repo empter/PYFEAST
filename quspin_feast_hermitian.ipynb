{
 "cells": [
  {
   "cell_type": "code",
   "execution_count": 10,
   "metadata": {},
   "outputs": [
    {
     "name": "stdout",
     "output_type": "stream",
     "text": [
      "0.3.4\n"
     ]
    }
   ],
   "source": [
    "import feast # must be imported first, not sure why.\n",
    "import quspin as qp\n",
    "print(qp.__version__)"
   ]
  },
  {
   "cell_type": "code",
   "execution_count": 1,
   "metadata": {
    "scrolled": true
   },
   "outputs": [
    {
     "name": "stdout",
     "output_type": "stream",
     "text": [
      "2002\n",
      "Hermiticity check passed!\n",
      "Symmetry checks passed!\n",
      "Particle conservation check passed!\n",
      "scipy.linalg.eigh finished!\n",
      "info = 5 FEAST warning or failed!\n"
     ]
    }
   ],
   "source": [
    "import feast # must be imported first, not sure why.\n",
    "import quspin as qp\n",
    "from quspin.operators import hamiltonian # Hamiltonians and operators\n",
    "from quspin.basis import spin_basis_1d,boson_basis_1d # Hilbert space boson basis\n",
    "import numpy as np # generic math functions\n",
    "import time\n",
    "from scipy.linalg import eigh\n",
    "\n",
    "start=time.time()\n",
    "##### define model parameters #####\n",
    "L = 10 # system size\n",
    "Nb=L//2\n",
    "# sps=4\n",
    "J = 1.0 # hopping strength\n",
    "halfU = 1.0\n",
    "\n",
    "basis=boson_basis_1d(L=L, Nb=Nb)\n",
    "print(basis.Ns)\n",
    "\n",
    "U_n=[[-halfU,i] for i in range(L)]\n",
    "J_nn=[[J,i,i+1] for i in range(L-1)]\n",
    "J_nn2=[[J,i,i+1] for i in range(L-1)]\n",
    "U_int=[[halfU,i,i] for i in range(L)]\n",
    "static=[[\"+-\",J_nn],[\"-+\",J_nn2],[\"nn\",U_int],[\"n\",U_n]]\n",
    "\n",
    "###### construct Hamiltonian\n",
    "H_b=hamiltonian(static,[],dtype=np.float64,basis=basis,check_herm=True)\n",
    "H=H_b.static\n",
    "spec,psil=eigh((H_b.static).todense())\n",
    "print(\"scipy.linalg.eigh finished!\")\n",
    "\n",
    "import feast\n",
    "### Working for real or complex Hermitian csr_matrix (Compressed Sparse Row matrix)\n",
    "### M0:subspace size; Em:Energy_min; Ex:Energy_max; which:-1(find M0 lowest), 0(find in [Em,Ex]), 1(find M0 largest)\n",
    "### default which=-1\n",
    "### methods for HSolver class:\n",
    "### .fpm: access fpm array\n",
    "### .setfpm(cp=None,eps=None,ml=None,it=None): set fpm array\n",
    "### .eigsh(debug=0): run FEAST \n",
    "### .eig(): access eigenvlaues\n",
    "### .vec(): access eigenvectors\n",
    "### .resid(): access residual \n",
    "\n",
    "# obj=feast.HSolver(H,M0=1) # find lowest 1 eigenvalue\n",
    "obj=feast.HSolver(H,M0=40,Em=-9.0,Ex=-6.0,which=0) # find eigenvalues in spectrum [-9.0,-6.0]\n",
    "# obj.setfpm(cp=16,eps=12,ml=2,it=1) # change default fpm parameter if needed\n",
    "# M,info=obj.eigsh(se=2) # estimate of #eigenvalues, M0>=1.5M is suggested, change Em/Ex or rebuild obj if M0<1.5M.\n",
    "egs,psi,M,info=obj.eigsh(debug=0)\n",
    "if info == 0:\n",
    "    print(\"FEAST sucess!\",M,\"eigenvlaues found.\")\n",
    "else:\n",
    "    print(\"info =\",info,\"FEAST warning or failed!\")\n",
    "# info Classiﬁcation Description\n",
    "# 202 Error Problem with size of the system N\n",
    "# 201 Error Problem with size of subspace M0\n",
    "# 200 Error Problem with Emin, Emax or Emid, r\n",
    "# (100 + i) Error Problem with ithvalue of the input FEAST parameter (i.e fpm(i))\n",
    "# 7 Warning The search for extreme eigenvalues has failed, search contour must be set by user\n",
    "# 6 Warning FEAST converges but subspace is not bi-orthonormal\n",
    "# 5 Warning Only stochastic estimation of #eigenvalues returned fpm(14)=2\n",
    "# 4 Warning Only the subspace has been returned using fpm(14)=1\n",
    "# 3 Warning Size of the subspace M0 is too small (M0<=M)\n",
    "# 2 Warning No Convergence (#iteration loops>fpm(4))\n",
    "# 1 Warning No Eigenvalue found in the search interval\n",
    "# 0 Successful exit\n",
    "# −1 Error Internal error conversion single/double\n",
    "# −2 Error Internal error of the inner system solver in FEAST Driver interfaces\n",
    "# −3 Error Internal error of the reduced eigenvalue solverPossible cause for Hermitian problem: matrix B may not be positive deﬁnite\n",
    "# −(100 + i) Error Problem with the ithargument of the FEAST interface"
   ]
  },
  {
   "cell_type": "code",
   "execution_count": 22,
   "metadata": {},
   "outputs": [
    {
     "data": {
      "text/plain": [
       "array([     0,     16,     12,      2,      0,      1,      5,     16,\n",
       "         -111,      1,   -111,   -111,      0,      0,      2,      1,\n",
       "         -111,     30,      0,     16,    100,     16,     40,      1,\n",
       "           40,   2002,   -111,   -111,      1, 121142,     40,     10,\n",
       "           16,   -111,   -111,      1,      0,      1,      0,      0,\n",
       "            1,      1,      0,      0,      1,     40,      0,      0,\n",
       "            0,   -111,   -111,   -111,   -111,   -111,   -111,   -111,\n",
       "         -111,   -111,   -111,      0,   -111,   -111,   -111,      0],\n",
       "      dtype=int32)"
      ]
     },
     "execution_count": 22,
     "metadata": {},
     "output_type": "execute_result"
    }
   ],
   "source": [
    "# possible input for .setfpm function\n",
    "# cp: contour points, it=0,2,cp in (1 to 20, 24, 32, 40, 48, 56), it=1, any cp>0\n",
    "# eps: convergence criteria = 10^(-eps) \n",
    "# ml: refinement loop, ml>0\n",
    "# it: integration type, 0: Gauss; 1: Trapezoidal; 2: Zolotarev (better for continuous spectrum)\n",
    "# lsp: mixed precision, 0:double; 1: single\n",
    "# ifeast: automatic switch if ifeast=1, usually used when matrix is very large (>10^6)\n",
    "# ifp: accuracy of ifeast, 10^(-ipf)\n",
    "# ifl: loop of ifeast\n",
    "# Em: set E_min\n",
    "# Ex: set E_max\n",
    "# ref Table 1 @ http://www.ecs.umass.edu/~polizzi/feast/doc.htm\n",
    "obj.setfpm(cp=8,eps=12,ml=1,it=1,lsp=1,ifeast=0,ifp=1,ifl=40,Em=-9.0,Ex=-6.0)\n",
    "obj.fpm"
   ]
  },
  {
   "cell_type": "code",
   "execution_count": 5,
   "metadata": {},
   "outputs": [
    {
     "data": {
      "text/plain": [
       "[1, 40, -9.0, -6.0, 0, 1, 1.3737159558028603e-13]"
      ]
     },
     "execution_count": 5,
     "metadata": {},
     "output_type": "execute_result"
    }
   ],
   "source": [
    "# parameters after FEAST finished\n",
    "# [1:real/2:complex, M0, Emin, Emax, 0:interal/-1:lowest/1:largest, loop, espout]\n",
    "obj.para_check()"
   ]
  },
  {
   "cell_type": "code",
   "execution_count": 6,
   "metadata": {},
   "outputs": [
    {
     "data": {
      "text/plain": [
       "array([1., 1., 1., 1., 1., 1., 1., 1., 1., 1., 1., 1., 1., 1., 1., 1.])"
      ]
     },
     "execution_count": 6,
     "metadata": {},
     "output_type": "execute_result"
    }
   ],
   "source": [
    "# normalized\n",
    "np.array([abs(psi[:,0].conj().dot(psi[:,0])) for i in range(M)])"
   ]
  },
  {
   "cell_type": "code",
   "execution_count": 7,
   "metadata": {},
   "outputs": [
    {
     "data": {
      "text/plain": [
       "array([2.26967658e-12, 1.75396210e-12, 2.17157267e-12, 2.68372570e-12,\n",
       "       1.91828452e-12, 1.92589653e-12, 2.20360351e-12, 3.04481921e-12,\n",
       "       2.31712767e-12, 2.41792145e-12, 2.73904926e-12, 3.15769465e-12,\n",
       "       4.04313459e-12, 3.75309043e-12, 5.29966009e-12, 1.23629397e-11])"
      ]
     },
     "execution_count": 7,
     "metadata": {},
     "output_type": "execute_result"
    }
   ],
   "source": [
    "# those are eigenvectors\n",
    "np.array([sum(abs(H.dot(psi[:,i])-egs[i]*psi[:,i])) for i in range(M)])"
   ]
  },
  {
   "cell_type": "code",
   "execution_count": 8,
   "metadata": {},
   "outputs": [
    {
     "data": {
      "text/plain": [
       "array([3.35239851e-13, 3.06048956e-13, 3.29184162e-13, 3.15140016e-13,\n",
       "       3.22300513e-13, 3.30774823e-13, 3.12938312e-13, 3.49347648e-13,\n",
       "       3.64557532e-13, 3.72055770e-13, 3.72573707e-13, 3.30088384e-13,\n",
       "       3.35051226e-13, 3.22121549e-13, 3.62281912e-13, 3.83500310e-13])"
      ]
     },
     "execution_count": 8,
     "metadata": {},
     "output_type": "execute_result"
    }
   ],
   "source": [
    "# compare with scipy.linalg.eigh\n",
    "np.array([sum(abs(H.dot(psil[:,i])-spec[i]*psil[:,i])) for i in range(M)])"
   ]
  },
  {
   "cell_type": "code",
   "execution_count": 9,
   "metadata": {},
   "outputs": [
    {
     "data": {
      "text/plain": [
       "array([ 3.55271368e-15, -7.99360578e-15, -7.99360578e-15, -7.99360578e-15,\n",
       "       -6.21724894e-15,  1.77635684e-15,  3.55271368e-15, -2.66453526e-15,\n",
       "       -1.77635684e-15, -1.77635684e-15, -1.77635684e-15, -6.21724894e-15,\n",
       "        2.66453526e-15, -7.99360578e-15, -8.88178420e-16, -8.88178420e-16])"
      ]
     },
     "execution_count": 9,
     "metadata": {},
     "output_type": "execute_result"
    }
   ],
   "source": [
    "# compare eigenvalues from FEAST with scipy.linalg.eigh\n",
    "egs-spec[:M]"
   ]
  },
  {
   "cell_type": "code",
   "execution_count": 10,
   "metadata": {},
   "outputs": [
    {
     "data": {
      "text/plain": [
       "array([1.07149194e-14, 7.39283933e-15, 1.05858044e-14, 1.28942459e-14,\n",
       "       8.74710644e-15, 9.71369208e-15, 1.02823865e-14, 1.44527594e-14,\n",
       "       1.03277618e-14, 1.05108423e-14, 1.20062118e-14, 1.37786191e-14,\n",
       "       1.76785112e-14, 1.63929650e-14, 2.64398235e-14, 6.37909412e-14])"
      ]
     },
     "execution_count": 10,
     "metadata": {},
     "output_type": "execute_result"
    }
   ],
   "source": [
    "# residual of eigenvalues\n",
    "obj.resid()"
   ]
  },
  {
   "cell_type": "code",
   "execution_count": null,
   "metadata": {},
   "outputs": [],
   "source": []
  }
 ],
 "metadata": {
  "kernelspec": {
   "display_name": "Python 3",
   "language": "python",
   "name": "python3"
  },
  "language_info": {
   "codemirror_mode": {
    "name": "ipython",
    "version": 3
   },
   "file_extension": ".py",
   "mimetype": "text/x-python",
   "name": "python",
   "nbconvert_exporter": "python",
   "pygments_lexer": "ipython3",
   "version": "3.7.7"
  }
 },
 "nbformat": 4,
 "nbformat_minor": 4
}
