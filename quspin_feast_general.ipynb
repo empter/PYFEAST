{
 "cells": [
  {
   "cell_type": "code",
   "execution_count": 42,
   "metadata": {},
   "outputs": [
    {
     "name": "stdout",
     "output_type": "stream",
     "text": [
      "0.3.4\n"
     ]
    }
   ],
   "source": [
    "import feast # must be imported first, not sure why.\n",
    "import quspin as qp\n",
    "print(qp.__version__)"
   ]
  },
  {
   "cell_type": "code",
   "execution_count": 52,
   "metadata": {
    "scrolled": true
   },
   "outputs": [
    {
     "name": "stdout",
     "output_type": "stream",
     "text": [
      "2002\n",
      "Symmetry checks passed!\n",
      "Particle conservation check passed!\n",
      "scipy.linalg.eig finished!\n",
      "FEAST sucess! 12 eigenvlaues found.\n"
     ]
    }
   ],
   "source": [
    "import feast # must be imported first, not sure why.\n",
    "import quspin as qp\n",
    "from quspin.operators import hamiltonian # Hamiltonians and operators\n",
    "from quspin.basis import spin_basis_1d,boson_basis_1d # Hilbert space boson basis\n",
    "import numpy as np # generic math| functions\n",
    "import time\n",
    "from scipy.linalg import eig\n",
    "\n",
    "start=time.time()\n",
    "##### define model parameters #####\n",
    "L = 10 # system size\n",
    "Nb=L//2\n",
    "# sps=4\n",
    "J = 1.0 # hopping strength\n",
    "halfU = 1.0\n",
    "\n",
    "basis=boson_basis_1d(L=L, Nb=Nb)\n",
    "print(basis.Ns)\n",
    "\n",
    "U_n=[[-halfU,i] for i in range(L)]\n",
    "J_nn=[[J,i,i+1] for i in range(L-1)]\n",
    "J_nn2=[[J+0.2,i,i+1] for i in range(L-1)]\n",
    "U_int=[[halfU,i,i] for i in range(L)]\n",
    "static=[[\"+-\",J_nn],[\"-+\",J_nn2],[\"nn\",U_int],[\"n\",U_n]]\n",
    "\n",
    "###### construct Hamiltonian\n",
    "H_b=hamiltonian(static,[],dtype=np.float64,basis=basis,check_herm=False)\n",
    "H=H_b.static\n",
    "spec,psil=eig((H_b.static).todense())\n",
    "print(\"scipy.linalg.eig finished!\")\n",
    "\n",
    "\n",
    "### Working for real or complex general csr_matrix (Compressed Sparse Row matrix)\n",
    "### M0:subspace size; Emid:Coordinate center of the contour ellipse; r:Horizontal radius of the contour ellipse;\n",
    "### Search eigenvalues less than r from Emid in the complex plane, largest/lowest not supported.\n",
    "### which:1(right eigenvalues), 0(both); default which=1\n",
    "### methods for GSolver class:\n",
    "### .fpm: access fpm array\n",
    "### .setfpm(cp=None,eps=None,ml=None,it=None,ra=None): set fpm array\n",
    "### .eigs(debug=0): run FEAST, only right eigenvalues/vectors will returned.\n",
    "### .eig(): access right eigenvlaues\n",
    "### .eigl(): access left eigenvalues\n",
    "### .vec(): access right eigenvectors\n",
    "### .vecl(): access left eigenvectors\n",
    "### .resid(): access residual of right eigenvlaues\n",
    "### .residl(): access residual of left eigenvlaues\n",
    "\n",
    "which=0\n",
    "obj=feast.GSolver(H,M0=40,Emid=-8.0,r=1.0,which=which) # find right eigenvalues in (E+9.0)^2 <= r^2\n",
    "obj.setfpm(cp=40,eps=12,ml=2,it=0) # change default fpm parameter if needed\n",
    "# M,info=obj.eigs(se=2) # estimate of #eigenvalues, M0>=1.5M is suggested, change Em/Ex or rebuild obj if M0<1.5M.\n",
    "egs,psi,M,info=obj.eigs(debug=0)\n",
    "if info == 0:\n",
    "    print(\"FEAST sucess!\",M,\"eigenvlaues found.\")\n",
    "elif info == 6:\n",
    "    print(\"FEAST warning!\",M,\"eigenvlaues found, subspace is not orthonormal\")\n",
    "else:\n",
    "    print(\"info =\",info,\"FEAST warning or failed!\")\n",
    "# info Classiﬁcation Description\n",
    "# 202 Error Problem with size of the system N\n",
    "# 201 Error Problem with size of subspace M0\n",
    "# 200 Error Problem with Emin, Emax or Emid, r\n",
    "# (100 + i) Error Problem with ithvalue of the input FEAST parameter (i.e fpm(i))\n",
    "# 7 Warning The search for extreme eigenvalues has failed, search contour must be set by user\n",
    "# 6 Warning FEAST converges but subspace is not bi-orthonormal\n",
    "# 5 Warning Only stochastic estimation of #eigenvalues returned fpm(14)=2\n",
    "# 4 Warning Only the subspace has been returned using fpm(14)=1\n",
    "# 3 Warning Size of the subspace M0 is too small (M0<=M)\n",
    "# 2 Warning No Convergence (#iteration loops>fpm(4))\n",
    "# 1 Warning No Eigenvalue found in the search interval\n",
    "# 0 Successful exit\n",
    "# −1 Error Internal error conversion single/double\n",
    "# −2 Error Internal error of the inner system solver in FEAST Driver interfaces\n",
    "# −3 Error Internal error of the reduced eigenvalue solverPossible cause for Hermitian problem: matrix B may not be positive deﬁnite\n",
    "# −(100 + i) Error Problem with the ithargument of the FEAST interface"
   ]
  },
  {
   "cell_type": "code",
   "execution_count": 2,
   "metadata": {
    "scrolled": true
   },
   "outputs": [
    {
     "data": {
      "text/plain": [
       "array([     0,      8,     12,      8,      0,      1,      5,     40,\n",
       "         -111,      1,   -111,   -111,      0,      0,      0,      0,\n",
       "         -111,    100,      0,     40,    100,     40,     38,      1,\n",
       "           38,   2002,   -111,   -111,      1, 121342,     40,     10,\n",
       "           40,     41,     38,      1,      0,      1,      0,      0,\n",
       "            1,      1,      0,      0,      1,     40,      0,      0,\n",
       "            0,   -111,   -111,   -111,   -111,   -111,   -111,   -111,\n",
       "         -111,   -111,   -111,      0,   -111,   -111,   -111,      0],\n",
       "      dtype=int32)"
      ]
     },
     "execution_count": 2,
     "metadata": {},
     "output_type": "execute_result"
    }
   ],
   "source": [
    "# possible input for .setfpm function\n",
    "# cp: contour points, it=0,cp in (2 to 40, 48, 64, 80, 96, 112), it=1, any cp>2\n",
    "# eps: convergence criteria = 10^(-eps) \n",
    "# ml: refinement loop, ml>0\n",
    "# it: integration type, 0: Gauss; 1: Trapezoidal;\n",
    "# vh: contour ratio ’vertical axis’/’horizontal axis’, ratio=vh/100\n",
    "# ra: contour rotation angle in degree from vertical axis ra in [-180:180]\n",
    "# lsp: mixed precision, 0:double; 1: single\n",
    "# ifeast: automatic switch if ifeast=1, usually used when matrix is very large (>1M)\n",
    "# ifp: accuracy of ifeast, 10^(-ipf)\n",
    "# ifl: loop of ifeast\n",
    "# ref Table 1 @ http://www.ecs.umass.edu/~polizzi/feast/doc.htm\n",
    "obj.setfpm(cp=40,eps=12,ml=2,it=1,vh=100,ra=0,lsp=1,ifeast=0,ifp=1,ifl=40,Emid=-8.0,r=1.0)\n",
    "obj.fpm"
   ]
  },
  {
   "cell_type": "code",
   "execution_count": 53,
   "metadata": {},
   "outputs": [
    {
     "data": {
      "text/plain": [
       "[1, 38, (-8+0j), 1.0, 0, 2, 2.8957725501162154e-15]"
      ]
     },
     "execution_count": 53,
     "metadata": {},
     "output_type": "execute_result"
    }
   ],
   "source": [
    "# parameters after FEAST finished\n",
    "# [1:real/2:complex, M0, Emid, r, 0:both/1:right_only, loop, espout]\n",
    "obj.para_check()"
   ]
  },
  {
   "cell_type": "code",
   "execution_count": 54,
   "metadata": {},
   "outputs": [
    {
     "data": {
      "text/plain": [
       "array([0.70174161+0.j, 0.89234073+0.j, 1.80129574+0.j, 1.48162419+0.j,\n",
       "       1.48511592+0.j, 1.95669542+0.j, 2.04516653+0.j, 2.16346921+0.j,\n",
       "       1.26092253+0.j, 2.29769581+0.j, 2.29612732+0.j, 2.48012993+0.j])"
      ]
     },
     "execution_count": 54,
     "metadata": {},
     "output_type": "execute_result"
    }
   ],
   "source": [
    "# right normalized\n",
    "np.array([psi[:,i].conj().dot(psi[:,i]) for i in range(M)])"
   ]
  },
  {
   "cell_type": "code",
   "execution_count": 55,
   "metadata": {},
   "outputs": [
    {
     "name": "stdout",
     "output_type": "stream",
     "text": [
      "[1.-1.11022302e-16j 1.+1.11022302e-16j 1.+1.66533454e-16j\n",
      " 1.+0.00000000e+00j 1.+0.00000000e+00j 1.+5.55111512e-17j\n",
      " 1.+0.00000000e+00j 1.-5.55111512e-17j 1.+5.55111512e-17j\n",
      " 1.-1.11022302e-16j 1.+0.00000000e+00j 1.-8.32667268e-17j]\n"
     ]
    }
   ],
   "source": [
    "# bi-normalized\n",
    "if which==0:\n",
    "    pl=obj.vecl()\n",
    "    print(np.array([pl[:,i].conj().dot(psi[:,i]) for i in range(M)]))"
   ]
  },
  {
   "cell_type": "code",
   "execution_count": 56,
   "metadata": {},
   "outputs": [
    {
     "name": "stdout",
     "output_type": "stream",
     "text": [
      "[5.75233695e-12 1.06697411e-11 1.03067258e-11 3.54201356e-12\n",
      " 1.50825524e-11 3.82564237e-12 1.41854376e-11 8.70803420e-12\n",
      " 9.61948499e-12 7.82263596e-12 4.13926658e-12 6.72479725e-12]\n",
      "[6.11726094e-12 3.83612202e-12 5.86334100e-12 4.08068816e-12\n",
      " 1.03382575e-11 2.63679889e-12 4.05686331e-12 2.45343513e-12\n",
      " 4.27702851e-12 3.74836982e-12 2.21321113e-12 1.67773693e-12]\n"
     ]
    }
   ],
   "source": [
    "# those are eigenvectors\n",
    "print(np.array([sum(abs(H.dot(psi[:,i])-egs[i]*psi[:,i])) for i in range(M)]))\n",
    "if which==0:\n",
    "    print(np.array([sum(abs(H.conj().transpose().dot(pl[:,i])-egs[i].conj()*pl[:,i])) for i in range(M)]))"
   ]
  },
  {
   "cell_type": "code",
   "execution_count": 57,
   "metadata": {},
   "outputs": [
    {
     "data": {
      "text/plain": [
       "array([1.14464015e-12, 1.22905581e-12, 1.36680294e-12, 1.49882567e-12,\n",
       "       1.53173090e-12, 1.65699563e-12, 1.59447434e-12, 1.64369878e-12,\n",
       "       1.03334117e-12, 1.03140969e-12, 1.84868459e-12, 1.75695641e-12])"
      ]
     },
     "execution_count": 57,
     "metadata": {},
     "output_type": "execute_result"
    }
   ],
   "source": [
    "# compare with scipy.linalg.eigh\n",
    "np.array([sum(abs(H.dot(psil[:,i])-spec[i]*psil[:,i])) for i in range(M)])"
   ]
  },
  {
   "cell_type": "code",
   "execution_count": 58,
   "metadata": {},
   "outputs": [
    {
     "data": {
      "text/plain": [
       "array([1.03177378e-13, 4.63409365e-14, 6.04106458e-14, 5.07218570e-14,\n",
       "       1.96886732e-14, 2.57703854e-14, 6.05522559e-14, 7.63834110e-14,\n",
       "       4.42639511e-15, 2.22785840e-14, 6.21825152e-14, 3.65278296e-14])"
      ]
     },
     "execution_count": 58,
     "metadata": {},
     "output_type": "execute_result"
    }
   ],
   "source": [
    "# compare eigenvalues from FEAST with scipy.linalg.eigh\n",
    "abs(np.sort(egs)-np.sort(spec)[:M])"
   ]
  },
  {
   "cell_type": "code",
   "execution_count": 59,
   "metadata": {},
   "outputs": [
    {
     "data": {
      "text/plain": [
       "array([2.59584214e-14, 4.23620524e-14, 2.88022825e-14, 1.08422228e-14,\n",
       "       4.66203047e-14, 1.04845738e-14, 3.77635328e-14, 2.23861291e-14,\n",
       "       3.27175175e-14, 1.90799657e-14, 1.05844409e-14, 1.65317582e-14])"
      ]
     },
     "execution_count": 59,
     "metadata": {},
     "output_type": "execute_result"
    }
   ],
   "source": [
    "# residual of right eigenvalues\n",
    "obj.resid()"
   ]
  },
  {
   "cell_type": "code",
   "execution_count": 60,
   "metadata": {},
   "outputs": [
    {
     "data": {
      "text/plain": [
       "array([1.64395980e-14, 9.10200963e-15, 1.92026462e-14, 1.26069926e-14,\n",
       "       3.14854061e-14, 7.50582414e-15, 1.16659541e-14, 9.64520827e-15,\n",
       "       1.43754383e-14, 1.42715784e-14, 6.51521244e-15, 6.52366436e-15])"
      ]
     },
     "execution_count": 60,
     "metadata": {},
     "output_type": "execute_result"
    }
   ],
   "source": [
    "# residual of left eigenvalues\n",
    "obj.residl()"
   ]
  },
  {
   "cell_type": "code",
   "execution_count": null,
   "metadata": {},
   "outputs": [],
   "source": []
  }
 ],
 "metadata": {
  "kernelspec": {
   "display_name": "Python 3",
   "language": "python",
   "name": "python3"
  },
  "language_info": {
   "codemirror_mode": {
    "name": "ipython",
    "version": 3
   },
   "file_extension": ".py",
   "mimetype": "text/x-python",
   "name": "python",
   "nbconvert_exporter": "python",
   "pygments_lexer": "ipython3",
   "version": "3.7.7"
  }
 },
 "nbformat": 4,
 "nbformat_minor": 4
}
